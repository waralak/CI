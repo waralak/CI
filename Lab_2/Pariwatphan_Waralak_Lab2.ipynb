{
 "cells": [
  {
   "cell_type": "markdown",
   "metadata": {
    "id": "YPW_bj34KXvQ"
   },
   "source": [
    "### General imports"
   ]
  },
  {
   "cell_type": "code",
   "execution_count": null,
   "metadata": {
    "id": "IqUPS4J2KXvT"
   },
   "outputs": [],
   "source": [
    "%matplotlib inline\n",
    "import matplotlib.pyplot as plt\n",
    "\n",
    "from PIL import Image\n",
    "import numpy as np\n",
    "import cv2 \n",
    "from skimage.metrics import mean_squared_error as mse\n",
    "from skimage.metrics import structural_similarity as ssim\n",
    "from scipy.signal import convolve2d as conv2"
   ]
  },
  {
   "cell_type": "markdown",
   "metadata": {
    "id": "4DaioO3SKXvW"
   },
   "source": [
    "### Auxiliary functions"
   ]
  },
  {
   "cell_type": "code",
   "execution_count": null,
   "metadata": {
    "id": "XEhg3ChBKXvX"
   },
   "outputs": [],
   "source": [
    "def render_images(images):\n",
    "    \"\"\"Renders images\n",
    "    \n",
    "    Args:\n",
    "        images: dictionary with images\n",
    "    \"\"\"\n",
    "    \n",
    "    # TODO: Develop function to render images. Make sure to have a descriptive caption for each image\n",
    "    for img_name, imgs in images.items():\n",
    "        # plt.figure()\n",
    "        plt.imshow(imgs)\n",
    "        plt.title(img_name)\n",
    "        plt.show()\n",
    "    \n",
    "    pass"
   ]
  },
  {
   "cell_type": "code",
   "execution_count": null,
   "metadata": {
    "id": "NczyE0cZKXvZ"
   },
   "outputs": [],
   "source": [
    "def load_images(names, render=True):\n",
    "    \"\"\"Loads images from files and renders them, if necessary\n",
    "\n",
    "    Args:\n",
    "        names: list of image files to load\n",
    "        render: flag that defines if image should be rendered\n",
    "\n",
    "    Returns:\n",
    "        Dictionary with loaded images\n",
    "    \"\"\"\n",
    "\n",
    "    # TODO: Develop function to load images from files\n",
    "    img_dic = {}\n",
    "    \n",
    "    for names_list in names:\n",
    "        img_read = Image.open(names_list)\n",
    "        img_read = img_read.convert('1')\n",
    "        img_dic[names_list] = img_read\n",
    "        \n",
    "    images = render_images(img_dic)\n",
    "\n",
    "    return images"
   ]
  },
  {
   "cell_type": "markdown",
   "metadata": {
    "id": "x-dCT4LOKXvb"
   },
   "source": [
    "## 1 Fourier filtering"
   ]
  },
  {
   "cell_type": "markdown",
   "metadata": {
    "id": "pwzadEy-KXvc"
   },
   "source": [
    "### 1.1 Preparation of dataset"
   ]
  },
  {
   "cell_type": "code",
   "execution_count": null,
   "metadata": {
    "id": "N2FVAkXiKXvd"
   },
   "outputs": [],
   "source": [
    "def make_pattern(dx, theta, shape):\n",
    "    \"\"\"Generates image with periodic structure (`stripes`)\n",
    "\n",
    "    Args:\n",
    "        dx: stripe thickness\n",
    "        theta: angle between stripes and x-axis\n",
    "        shape: shape of resulting image\n",
    "\n",
    "    Returns:\n",
    "        Image with required pattern as numpy array\n",
    "    \"\"\"\n",
    "\n",
    "    # TODO: Develop function to generate image with required periodic structure\n",
    "    \n",
    "    # Generate empty matrix & line strips\n",
    "    gen_mat = np.zeros((shape,shape), np.uint8)\n",
    "    lines = np.linspace(0, shape, shape//dx, dtype=int)\n",
    "    \n",
    "    for i in range(0, len(lines)-1, 2):\n",
    "        gen_mat[:, lines[i]:lines[i+1]] = 255\n",
    "    \n",
    "    pad = 200\n",
    "    img = np.pad(gen_mat, 100, mode='constant')\n",
    "    img = np.array(Image.fromarray(img).rotate(theta))\n",
    "    image = img[pad:-pad, pad:-pad]\n",
    "\n",
    "    return image"
   ]
  },
  {
   "cell_type": "code",
   "execution_count": null,
   "metadata": {
    "id": "O-wvif5KKXve",
    "outputId": "e60d76c7-a76c-40f9-cbff-885ea4cbb289"
   },
   "outputs": [],
   "source": [
    "# TODO: Show generated images with periodic structure\n",
    "# Total: 4 images\n",
    "# 1st \n",
    "Image.fromarray(make_pattern(10, 15, 1000))"
   ]
  },
  {
   "cell_type": "code",
   "execution_count": null,
   "metadata": {
    "id": "CCkPXVkIKXvh",
    "outputId": "0b6173be-85ae-43f4-8f78-888a37ef7355"
   },
   "outputs": [],
   "source": [
    "# 2nd\n",
    "Image.fromarray(make_pattern(25, 30, 1000))"
   ]
  },
  {
   "cell_type": "code",
   "execution_count": null,
   "metadata": {
    "id": "HQynjMApKXvi",
    "outputId": "8c1e3f56-2d92-4336-cf66-6a8ef5d386c5"
   },
   "outputs": [],
   "source": [
    "# 3rd\n",
    "Image.fromarray(make_pattern(50, 45, 1000))"
   ]
  },
  {
   "cell_type": "code",
   "execution_count": null,
   "metadata": {
    "id": "vh2Fnn8WKXvj",
    "outputId": "f9441053-e9c4-4c3d-a392-03dffddf9169"
   },
   "outputs": [],
   "source": [
    "# 4th\n",
    "Image.fromarray(make_pattern(100, 90, 1000))"
   ]
  },
  {
   "cell_type": "code",
   "execution_count": null,
   "metadata": {
    "id": "vCol0o8-KXvk"
   },
   "outputs": [],
   "source": [
    "# TODO: Save generated images with periodic structure on harddrive\n",
    "# Total: a dozen of images\n",
    "\n",
    "dx = [10, 25, 50, 100, 5, 10, 15, 20, 30, 35, 40, 45]\n",
    "theta = [15, 30, 45, 90, 125, 145, 180, 250, 270, 320, 60, 75]\n",
    "\n",
    "for i in range(len(dx)):\n",
    "    for j in range(len(theta)):\n",
    "        img = Image.fromarray(make_pattern(dx[i], theta[j], 1000))\n",
    "        img.save(f'data_{i+1}.png')"
   ]
  },
  {
   "cell_type": "code",
   "execution_count": null,
   "metadata": {
    "id": "CaE290G6KXvk",
    "outputId": "33b1dbf5-5055-4ddb-a6a7-5b1b1823ffc3"
   },
   "outputs": [],
   "source": [
    "# TODO: Load and render captured photos\n",
    "# Total: 4 images\n",
    "\n",
    "load_images(['data_1.png', 'data_2.png', 'data_3.png', 'data_4.png']);"
   ]
  },
  {
   "cell_type": "markdown",
   "metadata": {
    "id": "7ya24SwGKXvm"
   },
   "source": [
    "### 1.2 Processing of acquired dataset"
   ]
  },
  {
   "cell_type": "code",
   "execution_count": null,
   "metadata": {
    "id": "flyguRxCKXvn"
   },
   "outputs": [],
   "source": [
    "def fft_image(image):\n",
    "    \"\"\"Calculates Fourier Transform image\n",
    "\n",
    "    Args:\n",
    "        image: image for which Fourier Transform image is calculated\n",
    "\n",
    "    Returns:\n",
    "        Fourier Transform image\n",
    "    \"\"\"\n",
    "\n",
    "    # TODO: Develop function to calculate Fourier Transform image\n",
    "    \n",
    "    # Reading an image in default mode\n",
    "    image = plt.imread(image)\n",
    "    image = image[:, :, :3].mean(axis=2)  # Convert to grayscale\n",
    "    plt.set_cmap(\"gray\")\n",
    "    ft = np.fft.ifftshift(image)\n",
    "    ft = np.fft.fft2(ft)\n",
    "    result = np.fft.fftshift(ft)\n",
    "\n",
    "    return result"
   ]
  },
  {
   "cell_type": "code",
   "execution_count": null,
   "metadata": {
    "id": "AFPsR2LqKXvo",
    "outputId": "1b79b27b-e892-4b63-bf46-5244be565ab0"
   },
   "outputs": [],
   "source": [
    "# TODO: Calculate Fourier Transform image of captured photos\n",
    "# Total: 4 Fourier Transform images\n",
    "\n",
    "print(fft_image('data/DSC_0229.JPG'))\n",
    "Image.open('data/DSC_0229.JPG')"
   ]
  },
  {
   "cell_type": "code",
   "execution_count": null,
   "metadata": {
    "id": "c6D2QVerKXvp",
    "outputId": "19845e58-e4da-4628-95c2-9c381de6c9ee"
   },
   "outputs": [],
   "source": [
    "print(fft_image('data/DSC_0230.JPG'))\n",
    "Image.open('data/DSC_0230.JPG')"
   ]
  },
  {
   "cell_type": "code",
   "execution_count": null,
   "metadata": {
    "id": "cPfOyoIeKXvp",
    "outputId": "f0d161b7-a610-484c-c65a-d0d18ef69cda"
   },
   "outputs": [],
   "source": [
    "print(fft_image('data/DSC_0231.JPG'))\n",
    "Image.open('data/DSC_0231.JPG')"
   ]
  },
  {
   "cell_type": "code",
   "execution_count": null,
   "metadata": {
    "id": "EBTcjyiXKXvq",
    "outputId": "d61900f7-3f90-4211-a954-5b085c513228"
   },
   "outputs": [],
   "source": [
    "print(fft_image('data/DSC_0232.JPG'))\n",
    "Image.open('data/DSC_0232.JPG')"
   ]
  },
  {
   "cell_type": "code",
   "execution_count": null,
   "metadata": {
    "id": "KbsRq3mZKXvq",
    "outputId": "045acda9-2d5f-42c8-b8ab-c294be54a689"
   },
   "outputs": [],
   "source": [
    "# TODO: Display Fourier Transform image of captured photos\n",
    "# Total: 4 images\n",
    "ft = fft_image('data/DSC_0229.JPG')\n",
    "plt.imshow(np.log(abs(ft)))\n",
    "plt.axis(\"off\")\n",
    "plt.show()"
   ]
  },
  {
   "cell_type": "code",
   "execution_count": null,
   "metadata": {
    "id": "vSdC7E1WKXvr",
    "outputId": "1e79c7b8-ceaf-46f8-d5d8-9b5b5287ea0c"
   },
   "outputs": [],
   "source": [
    "ft = fft_image('data/DSC_0230.JPG')\n",
    "plt.imshow(np.log(abs(ft)))\n",
    "plt.axis(\"off\")\n",
    "plt.show()"
   ]
  },
  {
   "cell_type": "code",
   "execution_count": null,
   "metadata": {
    "id": "HONu6mPlKXvw",
    "outputId": "76a5e162-2a2c-4b69-c502-40dd162d8568"
   },
   "outputs": [],
   "source": [
    "ft = fft_image('data/DSC_0231.JPG')\n",
    "plt.imshow(np.log(abs(ft)))\n",
    "plt.axis(\"off\")\n",
    "plt.show()"
   ]
  },
  {
   "cell_type": "code",
   "execution_count": null,
   "metadata": {
    "id": "1vxokbrfKXvx",
    "outputId": "db539880-f30e-4225-a661-43e24a44c3b7"
   },
   "outputs": [],
   "source": [
    "ft = fft_image('data/DSC_0232.JPG')\n",
    "plt.imshow(np.log(abs(ft)))\n",
    "plt.axis(\"off\")\n",
    "plt.show()"
   ]
  },
  {
   "cell_type": "code",
   "execution_count": null,
   "metadata": {
    "id": "_AP5FYsvKXvy"
   },
   "outputs": [],
   "source": [
    "# Differenct delta x and theta leads to the different brightness of fourier transform pictures."
   ]
  },
  {
   "cell_type": "markdown",
   "metadata": {
    "id": "mDLq8S93KXvy"
   },
   "source": [
    "*`TODO`*: Qualitatively describe your observations of the changes to the Fourier spectrum as a function of ∆x and θ"
   ]
  },
  {
   "cell_type": "code",
   "execution_count": null,
   "metadata": {
    "id": "xEyCLPWIKXvz"
   },
   "outputs": [],
   "source": [
    "def fouirer_filter(source):\n",
    "    \"\"\"Filters image to get rid of `striped` illumination pattern\n",
    "\n",
    "    Args:\n",
    "        source: original image with hardware overlayed `striped` illumination pattern\n",
    "        theta: angle between stripes and x-axis\n",
    "        shape: shape of resulting image\n",
    "\n",
    "    Returns:\n",
    "        Filtered image\n",
    "    \"\"\"\n",
    "\n",
    "    # TODO: Develop function to filter image\n",
    "    image = plt.imread(source)\n",
    "    image = image[:, :, :3].mean(axis=2)  \n",
    "    plt.set_cmap(\"gray\")\n",
    "    ft = np.fft.fft2(image)\n",
    "    fft = np.fft.fftshift(ft)\n",
    "    \n",
    "    # Try to change this!!!    \n",
    "    pad = 16\n",
    "    \n",
    "    x_cut = fft.shape[0]//2 - pad, fft.shape[0]//2 + pad\n",
    "    y_cut = fft.shape[1]//2 - pad, fft.shape[1]//2\n",
    "    chunk = fft[x_cut[0]:x_cut[1], y_cut[0]:y_cut[1]]\n",
    "    \n",
    "    fft[x_cut[0]:x_cut[1], y_cut[0]:y_cut[1]] = 0\n",
    "    \n",
    "    x_cut = fft.shape[0]//2 - pad, fft.shape[0]//2 + pad\n",
    "    y_cut = fft.shape[1]//2+2, fft.shape[1]//2 + pad\n",
    "    chunk = fft[x_cut[0]:x_cut[1], y_cut[0]:y_cut[1]]\n",
    "    fft[x_cut[0]:x_cut[1], y_cut[0]:y_cut[1]] = 0\n",
    "       \n",
    "    fourier = np.fft.ifft2(np.fft.ifftshift(fft))\n",
    "    image = np.real(fourier)\n",
    "\n",
    "    return image"
   ]
  },
  {
   "cell_type": "code",
   "execution_count": null,
   "metadata": {
    "colab": {
     "base_uri": "https://localhost:8080/",
     "height": 286
    },
    "id": "KhjstxUbKXvz",
    "outputId": "30dda125-4258-4201-fbae-77dab3f477af"
   },
   "outputs": [],
   "source": [
    "# TODO: Test fouirer_filter() using captured photos\n",
    "# Total: Render 4 filtered images\n",
    "\n",
    "remove_1 = fouirer_filter('DSC_0229.JPG')\n",
    "plt.imshow(remove_1, cmap = 'gray')"
   ]
  },
  {
   "cell_type": "code",
   "execution_count": null,
   "metadata": {
    "colab": {
     "base_uri": "https://localhost:8080/",
     "height": 286
    },
    "id": "FcjCwaF5KXvz",
    "outputId": "f3cc0bfc-a542-4984-db61-ef4f6a0125d7"
   },
   "outputs": [],
   "source": [
    "remove_2 = fouirer_filter('DSC_0230.JPG')\n",
    "plt.imshow(remove_2, cmap = 'gray')"
   ]
  },
  {
   "cell_type": "code",
   "execution_count": null,
   "metadata": {
    "colab": {
     "base_uri": "https://localhost:8080/",
     "height": 286
    },
    "id": "CfpGwIydKXv0",
    "outputId": "5562daf3-14ec-4399-8de3-9ca208d5e7c1"
   },
   "outputs": [],
   "source": [
    "remove_3 = fouirer_filter('DSC_0231.JPG')\n",
    "plt.imshow(remove_3, cmap = 'gray')"
   ]
  },
  {
   "cell_type": "code",
   "execution_count": null,
   "metadata": {
    "colab": {
     "base_uri": "https://localhost:8080/",
     "height": 286
    },
    "id": "FYNyAn9yKXv0",
    "outputId": "38cce674-fc2e-43ec-fc46-c37f456ec6d8"
   },
   "outputs": [],
   "source": [
    "remove_4 = fouirer_filter('DSC_0232.JPG')\n",
    "plt.imshow(remove_4, cmap = 'gray')"
   ]
  },
  {
   "cell_type": "code",
   "execution_count": null,
   "metadata": {
    "colab": {
     "base_uri": "https://localhost:8080/"
    },
    "id": "jddYuhG0KXv1",
    "outputId": "758880a3-4e10-49ca-e284-c280d5a076c9"
   },
   "outputs": [],
   "source": [
    "# TODO: Compare filtered images to thier originals using SSIM score\n",
    "# Total: 4 comparisons\n",
    "\n",
    "ref_1 = plt.imread('DSC_0229.JPG')\n",
    "ref_1 = ref_1[:, :, :3].mean(axis=2)\n",
    "\n",
    "ref_2 = plt.imread('DSC_0230.JPG')\n",
    "ref_2 = ref_2[:, :, :3].mean(axis=2)\n",
    "\n",
    "ref_3 = plt.imread('DSC_0231.JPG')\n",
    "ref_3 = ref_3[:, :, :3].mean(axis=2)\n",
    "\n",
    "ref_4 = plt.imread('DSC_0232.JPG')\n",
    "ref_4 = ref_4[:, :, :3].mean(axis=2)\n",
    "\n",
    "ssim_1 = ssim(ref_1, remove_1)\n",
    "ssim_2 = ssim(ref_2, remove_2)\n",
    "ssim_3 = ssim(ref_3, remove_3)\n",
    "ssim_4 = ssim(ref_4, remove_4)\n",
    "\n",
    "print('{0:<8}({1:<12}| {2:<12}): {3:.8f}'.format('SSIM', 'Original 1', 'Filtered 1', ssim_1))\n",
    "print('{0:<8}({1:<12}| {2:<12}): {3:.8f}'.format('SSIM', 'Original 2', 'Filtered 2', ssim_2))\n",
    "print('{0:<8}({1:<12}| {2:<12}): {3:.8f}'.format('SSIM', 'Original 3', 'Filtered 3', ssim_3))\n",
    "print('{0:<8}({1:<12}| {2:<12}): {3:.8f}'.format('SSIM', 'Original 4', 'Filtered 4', ssim_4))"
   ]
  },
  {
   "cell_type": "markdown",
   "metadata": {
    "id": "Fo2idQAxKXv1"
   },
   "source": [
    "*`TODO`*: Qualitatively describe your observations and suggest a concept to eliminate the artifacts in the filtered images."
   ]
  },
  {
   "cell_type": "markdown",
   "metadata": {
    "id": "d2giK7azLIKp"
   },
   "source": [
    "Ans: I found that the method that I use (remove only the center of FT) is not good enough. It would be great if  can apply other removal function (e.g. sine) or remove other part of FT because the source code pattern has other parameter (e.g. theta). The result should be better but loose sharpness.\n",
    "\n"
   ]
  },
  {
   "cell_type": "code",
   "execution_count": null,
   "metadata": {
    "colab": {
     "base_uri": "https://localhost:8080/",
     "height": 199
    },
    "id": "cFwImlkumWZc",
    "outputId": "2ac90a4b-5a8e-43e0-a862-815079416e5a"
   },
   "outputs": [],
   "source": [
    "fig, ax = plt.subplots(nrows=1, ncols=2, figsize=(8, 5), sharex=True, sharey=True)\n",
    "\n",
    "plt.gray()\n",
    "\n",
    "fft_pic = Image.open(\"fft_pic.png\")\n",
    "fft_pic = fft_pic.convert('1')\n",
    "\n",
    "ax[0].imshow(remove_4, cmap = 'gray')\n",
    "ax[0].axis('off')\n",
    "ax[0].set_title('1st_remove')\n",
    "\n",
    "ax[1].imshow(fft_pic)\n",
    "ax[1].axis('off')\n",
    "ax[1].set_title('recovered from Image J')"
   ]
  },
  {
   "cell_type": "markdown",
   "metadata": {
    "id": "CWPMhMWYKXv2"
   },
   "source": [
    "## 2 Bokeh deconvolution"
   ]
  },
  {
   "cell_type": "markdown",
   "metadata": {
    "id": "YmU3csYmKXv2"
   },
   "source": [
    "### 2.1 Image recovery from software-originated Bokeh effect"
   ]
  },
  {
   "cell_type": "code",
   "execution_count": null,
   "metadata": {
    "colab": {
     "base_uri": "https://localhost:8080/",
     "height": 963
    },
    "id": "Fexkf2GxKXv2",
    "outputId": "b52bce83-f696-43c5-bce2-1761f016d2a5"
   },
   "outputs": [],
   "source": [
    "# TODO: Load photo of decoration lights\n",
    "# Total: 1 image\n",
    "\n",
    "Image.open('DSC_0421.JPG')"
   ]
  },
  {
   "cell_type": "code",
   "execution_count": null,
   "metadata": {
    "id": "nDDJL6LDKXv2"
   },
   "outputs": [],
   "source": [
    "def make_synthetic_psf(shape):\n",
    "    \"\"\"Generates synthetic PSF of specified shape\n",
    "\n",
    "    Args:\n",
    "        shape: shape of synthetic PSF\n",
    "\n",
    "    Returns:\n",
    "        Synthetic PSF as numpy array\n",
    "    \"\"\"\n",
    "\n",
    "    # TODO: Place code for synthetic PSF generation  into specific function\n",
    "    psf =  np.array([[0, 0, 1, 0, 0], \n",
    "                     [0, 1, 1, 1, 0],\n",
    "                     [1, 1, 1, 1, 1],\n",
    "                     [0, 1, 1, 1, 0],\n",
    "                     [0, 0, 1, 0, 0]], dtype=\"float64\")/shape\n",
    "\n",
    "    return psf"
   ]
  },
  {
   "cell_type": "code",
   "execution_count": null,
   "metadata": {
    "colab": {
     "base_uri": "https://localhost:8080/",
     "height": 286
    },
    "id": "iT0j5M49ocnu",
    "outputId": "c1246116-8722-4012-9dae-a200f5963f79"
   },
   "outputs": [],
   "source": [
    "# TODO: Calculate convolution of original photo of decoration lights and synthetic PSF\n",
    "# TODO: Bokeh effect should be perceptible\n",
    "# Total: 1 image\n",
    "\n",
    "from skimage import restoration\n",
    "\n",
    "bokeh_1 = Image.open(\"DSC_0421.JPG\")\n",
    "bokeh = bokeh_1.convert('1')\n",
    "psf = make_synthetic_psf(200)\n",
    "convo = conv2(bokeh, psf, 'same')\n",
    "\n",
    "rng = np.random.default_rng()\n",
    "convo += 0.1 * convo.std() * rng.standard_normal(convo.shape)\n",
    "\n",
    "plt.imshow(convo, cmap = 'gray')"
   ]
  },
  {
   "cell_type": "code",
   "execution_count": null,
   "metadata": {
    "colab": {
     "base_uri": "https://localhost:8080/",
     "height": 286
    },
    "id": "v8kNXuPfKXv3",
    "outputId": "40ef0784-2443-4d3c-a095-df8fee9d6c39"
   },
   "outputs": [],
   "source": [
    "# TODO: Recover the original image from the convolved image\n",
    "# Total: 1 image\n",
    "\n",
    "deconvolved, _ = restoration.unsupervised_wiener(convo, psf)\n",
    "plt.imshow(deconvolved)"
   ]
  },
  {
   "cell_type": "code",
   "execution_count": null,
   "metadata": {
    "colab": {
     "base_uri": "https://localhost:8080/",
     "height": 165
    },
    "id": "Pmb-pvEDKXv4",
    "outputId": "b6c09702-712f-4539-db47-f4a1987f6bed"
   },
   "outputs": [],
   "source": [
    "# TODO: Display the original image, the convolved Bokeh image, and the recovered one side-by-side\n",
    "# Total: a row of 3 images\n",
    "\n",
    "fig, ax = plt.subplots(nrows=1, ncols=3, figsize=(8, 5), sharex=True, sharey=True)\n",
    "\n",
    "plt.gray()\n",
    "\n",
    "orig = Image.open(\"DSC_0421.JPG\")\n",
    "orig = orig.convert('1')\n",
    "\n",
    "ax[0].imshow(orig)\n",
    "ax[0].axis('off')\n",
    "ax[0].set_title('original')\n",
    "\n",
    "ax[1].imshow(convo, cmap = 'gray')\n",
    "ax[1].axis('off')\n",
    "ax[1].set_title('convolved')\n",
    "\n",
    "ax[2].imshow(deconvolved)\n",
    "ax[2].axis('off')\n",
    "ax[2].set_title('recovered')\n",
    "\n",
    "fig.tight_layout()\n",
    "\n",
    "plt.show()"
   ]
  },
  {
   "cell_type": "markdown",
   "metadata": {
    "id": "mhCd8SjpKXv5"
   },
   "source": [
    "*`TODO`*: Describe what the custom shape of the PSF did to the original image and what are the differences in the recovered and the original photos"
   ]
  },
  {
   "cell_type": "markdown",
   "metadata": {
    "id": "D2OdPkjKrJ34"
   },
   "source": [
    "Ans: The custom shape of psf is rhombus and when we apply to the original image, the picture is brightened. The difference between recovered and original images is sharpness. Recovered image leads to the loss in sharpness."
   ]
  },
  {
   "cell_type": "markdown",
   "metadata": {
    "id": "QsSG_afcKXv5"
   },
   "source": [
    "### 2.2 Image recovery from hardware-originated Bokeh effect"
   ]
  },
  {
   "cell_type": "code",
   "execution_count": null,
   "metadata": {
    "colab": {
     "base_uri": "https://localhost:8080/",
     "height": 230
    },
    "id": "1axyp1IYKXv5",
    "outputId": "b0f34b12-bfe0-4c25-b7d7-db2361c10841"
   },
   "outputs": [],
   "source": [
    "# TODO: Load and render the captured photo of decoration light with perceptible Bokeh effect (hardware-based)\n",
    "# Total: 1 image\n",
    "Image.open('DSC_0422.JPG')"
   ]
  },
  {
   "cell_type": "code",
   "execution_count": null,
   "metadata": {
    "id": "UP4QMc6oKXv5"
   },
   "outputs": [],
   "source": [
    "def recover_from_hw_Bokeh(image, psf):\n",
    "    \"\"\"Recovers clean image from image with hardware-originated Bokeh effect\n",
    "\n",
    "    Args:\n",
    "        image: image with Bokeh-effect\n",
    "        psf: PSF of known shape (may required scaling or other adjustment)\n",
    "\n",
    "    Returns:\n",
    "        Clean image\n",
    "    \"\"\"\n",
    "    \n",
    "    # TODO: Place code for recovery of the clean image of the decoration lights from the captured image with Bokeh effect\n",
    "    \n",
    "    return recovered_image\n",
    "\n",
    "#### Using imageJ ####"
   ]
  },
  {
   "cell_type": "markdown",
   "metadata": {
    "id": "AeoYivBXjaTf"
   },
   "source": [
    "I find FT and select only the white circle inside rhombus. The result will be shown in the next cell (loss sharpness)."
   ]
  },
  {
   "cell_type": "code",
   "execution_count": null,
   "metadata": {
    "colab": {
     "base_uri": "https://localhost:8080/",
     "height": 199
    },
    "id": "OgIOtnjQKXv6",
    "outputId": "0a6668b0-a2bc-4d03-d7b6-8afda3f4998f"
   },
   "outputs": [],
   "source": [
    "# TODO: Display the clean image side-by-side with original photo of decoration lights\n",
    "# Total: a row of 2 images\n",
    "fig, ax = plt.subplots(nrows=1, ncols=2, figsize=(8, 5), sharex=True, sharey=True)\n",
    "\n",
    "plt.gray()\n",
    "\n",
    "bok_rec_ref = Image.open(\"DSC_0422.JPG\")\n",
    "bok_rec_ref = bok_rec_ref.convert('1')\n",
    "\n",
    "bok_rec_rec = Image.open(\"recovered_1.png\")\n",
    "bok_rec_rec = bok_rec_rec.convert('1')\n",
    "\n",
    "\n",
    "ax[0].imshow(bok_rec_ref)\n",
    "ax[0].axis('off')\n",
    "ax[0].set_title('original')\n",
    "\n",
    "ax[1].imshow(bok_rec_rec)\n",
    "ax[1].axis('off')\n",
    "ax[1].set_title('recovered')"
   ]
  }
 ],
 "metadata": {
  "colab": {
   "collapsed_sections": [],
   "provenance": []
  },
  "interpreter": {
   "hash": "e5fbce70d0af05c2120547fe7158bdea1181425d85083338a94b934bdfca645c"
  },
  "kernelspec": {
   "display_name": "Python 3 (ipykernel)",
   "language": "python",
   "name": "python3"
  },
  "language_info": {
   "codemirror_mode": {
    "name": "ipython",
    "version": 3
   },
   "file_extension": ".py",
   "mimetype": "text/x-python",
   "name": "python",
   "nbconvert_exporter": "python",
   "pygments_lexer": "ipython3",
   "version": "3.10.6"
  }
 },
 "nbformat": 4,
 "nbformat_minor": 1
}
